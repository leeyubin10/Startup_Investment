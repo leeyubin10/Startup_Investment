{
  "nbformat": 4,
  "nbformat_minor": 0,
  "metadata": {
    "colab": {
      "provenance": []
    },
    "kernelspec": {
      "name": "python3",
      "display_name": "Python 3"
    },
    "language_info": {
      "name": "python"
    }
  },
  "cells": [
    {
      "cell_type": "markdown",
      "source": [
        "### **Graph**"
      ],
      "metadata": {
        "id": "Xq0wYJCvx2_t"
      }
    },
    {
      "cell_type": "markdown",
      "source": [
        "#### Google Drive 연결"
      ],
      "metadata": {
        "id": "wdR2MEaLyAg_"
      }
    },
    {
      "cell_type": "code",
      "source": [
        "from google.colab import drive\n",
        "drive.mount('/content/drive')"
      ],
      "metadata": {
        "colab": {
          "base_uri": "https://localhost:8080/"
        },
        "id": "ARDzfKbp1OhQ",
        "outputId": "45fe48bd-7629-48ad-c9aa-6089a5220df7"
      },
      "execution_count": 1,
      "outputs": [
        {
          "output_type": "stream",
          "name": "stdout",
          "text": [
            "Mounted at /content/drive\n"
          ]
        }
      ]
    },
    {
      "cell_type": "markdown",
      "source": [
        "#### 사용할 module import"
      ],
      "metadata": {
        "id": "_ytXtsB1yDhq"
      }
    },
    {
      "cell_type": "code",
      "source": [
        "import pandas as pd\n",
        "import networkx as nx\n",
        "import numpy as np"
      ],
      "metadata": {
        "id": "Nj5mvCxr7O3O"
      },
      "execution_count": 2,
      "outputs": []
    },
    {
      "cell_type": "markdown",
      "source": [
        "#### 데이터 불러오기\n",
        "**# Columns Information**\n",
        "- company: 회사명\n",
        "- investment: 누적투자금액\n",
        "- sales: 매출\n",
        "- employee: 고용수\n",
        "- category: 카테고리\n",
        "- keyword: 키워드\n",
        "- establishment: 설립년도\n",
        "- view: 최근 조회수\n",
        "- total_mean: 최종 순위"
      ],
      "metadata": {
        "id": "lYvyp9K3yNyj"
      }
    },
    {
      "cell_type": "code",
      "source": [
        "# CSV 파일 불러오기\n",
        "nodes = pd.read_csv('/content/drive/MyDrive/2024-1 graph-mining/final_project/sort_top50.csv')"
      ],
      "metadata": {
        "id": "3PJWBXwl1MIn"
      },
      "execution_count": 3,
      "outputs": []
    },
    {
      "cell_type": "markdown",
      "source": [
        "#### [Node] : startup name\n",
        "- 회사명 : company\n",
        "- 크기 : 매출액"
      ],
      "metadata": {
        "id": "Y-0pvSwq3lN3"
      }
    },
    {
      "cell_type": "code",
      "source": [
        "# 노드 데이터프레임에서 노드 리스트 생성\n",
        "nodes_list = nodes['company'].tolist()"
      ],
      "metadata": {
        "id": "Lg5fTjei7U3H"
      },
      "execution_count": 4,
      "outputs": []
    },
    {
      "cell_type": "markdown",
      "source": [
        "#### [Edge] : category\n",
        "- 같은 카테고리 속한 기업 연결\n",
        "- 가중치 : 년도"
      ],
      "metadata": {
        "id": "V3E2Pe6H3yqh"
      }
    },
    {
      "cell_type": "code",
      "source": [
        "# 엣지 생성을 위한 데이터프레임 생성\n",
        "edges_df = nodes[['company', 'category']].copy()"
      ],
      "metadata": {
        "id": "MziEu9Wz7Yrq"
      },
      "execution_count": 5,
      "outputs": []
    },
    {
      "cell_type": "markdown",
      "source": [
        "#### 그래프 생성\n",
        "- Node와 Edge 연결\n",
        "- Node의 attribute 추가 -> 투자금액에 따라 노드 크기"
      ],
      "metadata": {
        "id": "IBeE9YiA0Nsl"
      }
    },
    {
      "cell_type": "code",
      "source": [
        "# 노드 리스트를 딕셔너리 형태로 변환하여 노드 ID로 사용\n",
        "nodes_dict = {node: idx for idx, node in enumerate(nodes_list)}"
      ],
      "metadata": {
        "id": "XKoQK4Rb7d3W"
      },
      "execution_count": 6,
      "outputs": []
    },
    {
      "cell_type": "code",
      "source": [
        "# 엣지를 연결할 그래프 객체 생성\n",
        "G = nx.Graph()"
      ],
      "metadata": {
        "id": "FvuxnkSp7etL"
      },
      "execution_count": 7,
      "outputs": []
    },
    {
      "cell_type": "code",
      "source": [
        "# 노드 추가 및 속성 설정\n",
        "for idx, row in nodes.iterrows():\n",
        "    company = row['company']\n",
        "    employee = row['employee']\n",
        "    G.add_node(company, employee=employee)"
      ],
      "metadata": {
        "id": "3Wwx_LLC8IdM"
      },
      "execution_count": 9,
      "outputs": []
    },
    {
      "cell_type": "code",
      "source": [
        "# 엣지 추가\n",
        "for _, row in edges_df.iterrows():\n",
        "    company = row['company']\n",
        "    categories = row['category'].split(',')  # 쉼표를 기준으로 카테고리를 분할\n",
        "    for category in categories:\n",
        "        # 같은 category에 속한 노드를 연결\n",
        "        connected_nodes = edges_df[edges_df['category'].str.contains(category)]['company'].tolist()\n",
        "        for connected_node in connected_nodes:\n",
        "            if company != connected_node:  # 자기 자신과는 연결하지 않도록 조건 추가\n",
        "                G.add_edge(company, connected_node)"
      ],
      "metadata": {
        "id": "WOFTH3lOJHxs"
      },
      "execution_count": 10,
      "outputs": []
    },
    {
      "cell_type": "markdown",
      "source": [
        "#### Edge Weight 추가\n",
        "- Vectorization column의 값을 활용하여 노드 간 Cosine Similarity 계산\n"
      ],
      "metadata": {
        "id": "yJ_U7kKjzhLJ"
      }
    },
    {
      "cell_type": "code",
      "source": [
        "# GraphML 파일로 저장하는 함수 정의\n",
        "def save_graphml(graph, filename):\n",
        "    nx.write_graphml_lxml(graph, filename)"
      ],
      "metadata": {
        "id": "0OoNesZJAVAh"
      },
      "execution_count": 11,
      "outputs": []
    },
    {
      "cell_type": "markdown",
      "source": [
        "#### 생성된 Node, Edge 개수 확인"
      ],
      "metadata": {
        "id": "t3wtGm5Jz6if"
      }
    },
    {
      "cell_type": "code",
      "source": [
        "# 노드 개수 출력\n",
        "print(\"Number of nodes:\", G.number_of_nodes())\n",
        "\n",
        "# 엣지 개수 출력\n",
        "print(\"Number of edges:\", G.number_of_edges())"
      ],
      "metadata": {
        "colab": {
          "base_uri": "https://localhost:8080/"
        },
        "id": "whKuyAb4GPA0",
        "outputId": "1ba4f1f1-1105-4544-cf41-5aa15242e24a"
      },
      "execution_count": 12,
      "outputs": [
        {
          "output_type": "stream",
          "name": "stdout",
          "text": [
            "Number of nodes: 50\n",
            "Number of edges: 308\n"
          ]
        }
      ]
    },
    {
      "cell_type": "markdown",
      "source": [
        "#### GraphML 파일로 저장"
      ],
      "metadata": {
        "id": "cjIwSFgyz9rZ"
      }
    },
    {
      "cell_type": "code",
      "source": [
        "# GraphML 파일로 저장\n",
        "save_graphml(G, \"startup_graph_3.graphml\")"
      ],
      "metadata": {
        "id": "xe5sO8Yi6ekw"
      },
      "execution_count": 13,
      "outputs": []
    }
  ]
}